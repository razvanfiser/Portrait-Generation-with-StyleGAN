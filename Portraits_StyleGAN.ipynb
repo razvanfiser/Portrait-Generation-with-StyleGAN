{
 "cells": [
  {
   "cell_type": "markdown",
   "id": "1f95453d",
   "metadata": {},
   "source": [
    "## Importing necessary libraries"
   ]
  },
  {
   "cell_type": "code",
   "execution_count": 1,
   "id": "7b81ba7a",
   "metadata": {},
   "outputs": [],
   "source": [
    "import numpy as np\n",
    "import pandas as pd\n",
    "from PIL import Image, ImageFilter\n",
    "import os\n",
    "import cv2"
   ]
  },
  {
   "cell_type": "markdown",
   "id": "f3074372",
   "metadata": {},
   "source": [
    "## Building the Data Frame"
   ]
  },
  {
   "cell_type": "code",
   "execution_count": 2,
   "id": "5de7621f",
   "metadata": {
    "scrolled": true
   },
   "outputs": [
    {
     "data": {
      "text/html": [
       "<div>\n",
       "<style scoped>\n",
       "    .dataframe tbody tr th:only-of-type {\n",
       "        vertical-align: middle;\n",
       "    }\n",
       "\n",
       "    .dataframe tbody tr th {\n",
       "        vertical-align: top;\n",
       "    }\n",
       "\n",
       "    .dataframe thead th {\n",
       "        text-align: right;\n",
       "    }\n",
       "</style>\n",
       "<table border=\"1\" class=\"dataframe\">\n",
       "  <thead>\n",
       "    <tr style=\"text-align: right;\">\n",
       "      <th></th>\n",
       "      <th>artist</th>\n",
       "      <th>date</th>\n",
       "      <th>genre</th>\n",
       "      <th>pixelsx</th>\n",
       "      <th>pixelsy</th>\n",
       "      <th>size_bytes</th>\n",
       "      <th>source</th>\n",
       "      <th>style</th>\n",
       "      <th>title</th>\n",
       "      <th>artist_group</th>\n",
       "      <th>in_train</th>\n",
       "      <th>new_filename</th>\n",
       "    </tr>\n",
       "  </thead>\n",
       "  <tbody>\n",
       "    <tr>\n",
       "      <th>0</th>\n",
       "      <td>Barnett Newman</td>\n",
       "      <td>1955.0</td>\n",
       "      <td>abstract</td>\n",
       "      <td>15530.0</td>\n",
       "      <td>6911.0</td>\n",
       "      <td>9201912.0</td>\n",
       "      <td>wikiart</td>\n",
       "      <td>Color Field Painting</td>\n",
       "      <td>Uriel</td>\n",
       "      <td>train_only</td>\n",
       "      <td>True</td>\n",
       "      <td>102257.jpg</td>\n",
       "    </tr>\n",
       "    <tr>\n",
       "      <th>1</th>\n",
       "      <td>Barnett Newman</td>\n",
       "      <td>1950.0</td>\n",
       "      <td>abstract</td>\n",
       "      <td>14559.0</td>\n",
       "      <td>6866.0</td>\n",
       "      <td>8867532.0</td>\n",
       "      <td>wikiart</td>\n",
       "      <td>Color Field Painting</td>\n",
       "      <td>Vir Heroicus Sublimis</td>\n",
       "      <td>train_only</td>\n",
       "      <td>True</td>\n",
       "      <td>75232.jpg</td>\n",
       "    </tr>\n",
       "    <tr>\n",
       "      <th>2</th>\n",
       "      <td>kiri nichol</td>\n",
       "      <td>2013.0</td>\n",
       "      <td>NaN</td>\n",
       "      <td>9003.0</td>\n",
       "      <td>9004.0</td>\n",
       "      <td>1756681.0</td>\n",
       "      <td>NaN</td>\n",
       "      <td>Neoplasticism</td>\n",
       "      <td>NaN</td>\n",
       "      <td>test_only</td>\n",
       "      <td>False</td>\n",
       "      <td>32145.jpg</td>\n",
       "    </tr>\n",
       "    <tr>\n",
       "      <th>3</th>\n",
       "      <td>kiri nichol</td>\n",
       "      <td>2013.0</td>\n",
       "      <td>NaN</td>\n",
       "      <td>9003.0</td>\n",
       "      <td>9004.0</td>\n",
       "      <td>1942046.0</td>\n",
       "      <td>NaN</td>\n",
       "      <td>Neoplasticism</td>\n",
       "      <td>NaN</td>\n",
       "      <td>test_only</td>\n",
       "      <td>False</td>\n",
       "      <td>20304.jpg</td>\n",
       "    </tr>\n",
       "    <tr>\n",
       "      <th>4</th>\n",
       "      <td>kiri nichol</td>\n",
       "      <td>2013.0</td>\n",
       "      <td>NaN</td>\n",
       "      <td>9003.0</td>\n",
       "      <td>9004.0</td>\n",
       "      <td>1526212.0</td>\n",
       "      <td>NaN</td>\n",
       "      <td>Neoplasticism</td>\n",
       "      <td>NaN</td>\n",
       "      <td>test_only</td>\n",
       "      <td>False</td>\n",
       "      <td>836.jpg</td>\n",
       "    </tr>\n",
       "  </tbody>\n",
       "</table>\n",
       "</div>"
      ],
      "text/plain": [
       "           artist    date     genre  pixelsx  pixelsy  size_bytes   source  \\\n",
       "0  Barnett Newman  1955.0  abstract  15530.0   6911.0   9201912.0  wikiart   \n",
       "1  Barnett Newman  1950.0  abstract  14559.0   6866.0   8867532.0  wikiart   \n",
       "2     kiri nichol  2013.0       NaN   9003.0   9004.0   1756681.0      NaN   \n",
       "3     kiri nichol  2013.0       NaN   9003.0   9004.0   1942046.0      NaN   \n",
       "4     kiri nichol  2013.0       NaN   9003.0   9004.0   1526212.0      NaN   \n",
       "\n",
       "                  style                  title artist_group  in_train  \\\n",
       "0  Color Field Painting                  Uriel   train_only      True   \n",
       "1  Color Field Painting  Vir Heroicus Sublimis   train_only      True   \n",
       "2         Neoplasticism                    NaN    test_only     False   \n",
       "3         Neoplasticism                    NaN    test_only     False   \n",
       "4         Neoplasticism                    NaN    test_only     False   \n",
       "\n",
       "  new_filename  \n",
       "0   102257.jpg  \n",
       "1    75232.jpg  \n",
       "2    32145.jpg  \n",
       "3    20304.jpg  \n",
       "4      836.jpg  "
      ]
     },
     "execution_count": 2,
     "metadata": {},
     "output_type": "execute_result"
    }
   ],
   "source": [
    "df = pd.read_csv(\"all_data_info.csv\")\n",
    "df.head()"
   ]
  },
  {
   "cell_type": "markdown",
   "id": "f8b961df",
   "metadata": {},
   "source": [
    "Below we check out what we're working with - how many images belong to which style- and genre- respectively. We are interested in generating portraits of closely-related style. This will hopefully lead to StyleGAN producing more coherent results."
   ]
  },
  {
   "cell_type": "code",
   "execution_count": 3,
   "id": "84374921",
   "metadata": {},
   "outputs": [
    {
     "data": {
      "text/plain": [
       "{'Impressionism': 10643,\n",
       " 'Realism': 10523,\n",
       " 'Romanticism': 9285,\n",
       " 'Expressionism': 7013,\n",
       " 'Post-Impressionism': 5778,\n",
       " 'Art Nouveau (Modern)': 4899,\n",
       " 'Baroque': 4400,\n",
       " 'Surrealism': 4167,\n",
       " 'Symbolism': 3476,\n",
       " 'Rococo': 2733,\n",
       " 'Northern Renaissance': 2379,\n",
       " 'Naïve Art (Primitivism)': 2295,\n",
       " 'Abstract Expressionism': 2074,\n",
       " 'Neoclassicism': 2038,\n",
       " 'Cubism': 1747,\n",
       " 'Ukiyo-e': 1426,\n",
       " 'Early Renaissance': 1351,\n",
       " 'Mannerism (Late Renaissance)': 1342,\n",
       " 'High Renaissance': 1314,\n",
       " 'Art Informel': 1267,\n",
       " 'Magic Realism': 1002,\n",
       " 'Abstract Art': 979,\n",
       " 'Academicism': 972,\n",
       " 'Color Field Painting': 910,\n",
       " 'Pop Art': 791,\n",
       " 'Fauvism': 731,\n",
       " 'Lyrical Abstraction': 670,\n",
       " 'Art Deco': 644,\n",
       " 'Concretism': 581,\n",
       " 'Neo-Romanticism': 566,\n",
       " 'Ink and wash painting': 545,\n",
       " 'Op Art': 528,\n",
       " 'Pointillism': 501,\n",
       " 'Minimalism': 460,\n",
       " 'Tachisme': 436,\n",
       " 'Naturalism': 435,\n",
       " 'Neo-Expressionism': 420,\n",
       " 'Orientalism': 392,\n",
       " 'Luminism': 385,\n",
       " 'Shin-hanga': 380,\n",
       " 'Hard Edge Painting': 372,\n",
       " 'Sōsaku hanga': 369,\n",
       " 'Divisionism': 338,\n",
       " 'New Realism': 329,\n",
       " 'Regionalism': 321,\n",
       " 'Contemporary Realism': 309,\n",
       " 'Social Realism': 305,\n",
       " 'Futurism': 291,\n",
       " 'Precisionism': 284,\n",
       " 'American Realism': 277,\n",
       " 'Proto Renaissance': 273,\n",
       " 'Constructivism': 268,\n",
       " 'Orphism': 248,\n",
       " 'Classicism': 223,\n",
       " 'Tenebrism': 221,\n",
       " 'International Gothic': 215,\n",
       " 'Dada': 205,\n",
       " 'Tonalism': 202,\n",
       " 'Art Brut': 198,\n",
       " 'Metaphysical art': 192,\n",
       " 'Synthetic Cubism': 187,\n",
       " 'Neoplasticism': 173,\n",
       " 'Cloisonnism': 172,\n",
       " 'Post-Painterly Abstraction': 169,\n",
       " 'Purism': 159,\n",
       " 'Muralism': 149,\n",
       " 'Nouveau Réalisme': 142,\n",
       " 'Cubo-Futurism': 137,\n",
       " 'Biedermeier': 132,\n",
       " 'Neo-Dada': 131,\n",
       " 'Conceptual Art': 124,\n",
       " 'Japonism': 118,\n",
       " 'Intimism': 109,\n",
       " 'Neo-baroque': 105,\n",
       " 'Action painting': 98,\n",
       " 'Neo-Rococo': 97,\n",
       " 'Socialist Realism': 95,\n",
       " 'Zen': 94,\n",
       " 'Analytical\\xa0Realism': 89,\n",
       " 'Analytical Cubism': 87,\n",
       " 'Verism': 84,\n",
       " 'Spatialism': 83,\n",
       " 'Suprematism': 80,\n",
       " 'Byzantine': 77,\n",
       " 'Transautomatism': 74,\n",
       " 'Ottoman Period': 72,\n",
       " 'Mechanistic Cubism': 69,\n",
       " 'Outsider art': 68,\n",
       " 'Photorealism': 61,\n",
       " 'Nanga (Bunjinga)': 58,\n",
       " 'Romanesque': 55,\n",
       " 'Synthetism': 49,\n",
       " 'Hyper-Realism': 49,\n",
       " 'Kitsch': 47,\n",
       " 'Neo-Concretism': 44,\n",
       " 'Modernismo': 43,\n",
       " 'Poster Art Realism': 43,\n",
       " 'Safavid Period': 39,\n",
       " 'Mosan art': 39,\n",
       " 'Gongbi': 38,\n",
       " 'Automatic Painting': 37,\n",
       " 'Primitivism': 36,\n",
       " 'Lettrism': 33,\n",
       " 'Fantastic Realism': 31,\n",
       " 'Post-Minimalism': 31,\n",
       " 'Nihonga': 29,\n",
       " 'Neo-Figurative Art': 27,\n",
       " 'New European Painting': 25,\n",
       " 'Indian Space painting': 25,\n",
       " 'Street art': 23,\n",
       " 'Cubo-Expressionism': 22,\n",
       " 'New Casualism': 22,\n",
       " 'Native Art': 21,\n",
       " 'Tubism': 21,\n",
       " 'Figurative Expressionism': 19,\n",
       " 'Costumbrismo': 19,\n",
       " 'Feminist Art': 18,\n",
       " 'Neo-Byzantine': 18,\n",
       " 'Existential Art': 17,\n",
       " 'Timurid Period': 17,\n",
       " 'Yamato-e': 12,\n",
       " 'Gothic': 12,\n",
       " 'Light and Space': 11,\n",
       " 'Synchromism': 10,\n",
       " 'Mail Art': 10,\n",
       " 'Joseon Dynasty': 10,\n",
       " 'Cartographic Art': 10,\n",
       " 'Nas-Taliq': 9,\n",
       " 'Miserablism': 8,\n",
       " 'Rayonism': 6,\n",
       " 'Perceptism ': 6,\n",
       " 'Spectralism': 5,\n",
       " 'Kinetic Art': 3,\n",
       " 'Ilkhanid': 2,\n",
       " 'Renaissance': 1,\n",
       " 'Environmental (Land) Art': 1}"
      ]
     },
     "execution_count": 3,
     "metadata": {},
     "output_type": "execute_result"
    }
   ],
   "source": [
    "dict(df[\"style\"].value_counts())"
   ]
  },
  {
   "cell_type": "code",
   "execution_count": 4,
   "id": "3d388106",
   "metadata": {},
   "outputs": [
    {
     "data": {
      "text/plain": [
       "portrait                    16847\n",
       "landscape                   15006\n",
       "genre painting              14260\n",
       "abstract                     9498\n",
       "religious painting           7429\n",
       "cityscape                    5348\n",
       "sketch and study             3644\n",
       "illustration                 3202\n",
       "still life                   3132\n",
       "symbolic painting            2545\n",
       "nude painting (nu)           2290\n",
       "figurative                   2244\n",
       "design                       2024\n",
       "mythological painting        1910\n",
       "marina                       1805\n",
       "flower painting              1606\n",
       "animal painting              1571\n",
       "self-portrait                1531\n",
       "allegorical painting         1034\n",
       "history painting              879\n",
       "interior                      670\n",
       "literary painting             558\n",
       "battle painting               358\n",
       "wildlife painting             327\n",
       "poster                        286\n",
       "capriccio                     236\n",
       "veduta                        233\n",
       "caricature                    231\n",
       "cloudscape                    208\n",
       "tessellation                  186\n",
       "calligraphy                   160\n",
       "pastorale                     125\n",
       "bird-and-flower painting      119\n",
       "miniature                     118\n",
       "bijinga                        95\n",
       "yakusha-e                      92\n",
       "advertisement                  82\n",
       "shan shui                      33\n",
       "vanitas                        32\n",
       "quadratura                     22\n",
       "panorama                       19\n",
       "urushi-e                        1\n",
       "Name: genre, dtype: int64"
      ]
     },
     "execution_count": 4,
     "metadata": {},
     "output_type": "execute_result"
    }
   ],
   "source": [
    "df[\"genre\"].value_counts()"
   ]
  },
  {
   "cell_type": "markdown",
   "id": "3a4140e7",
   "metadata": {},
   "source": [
    "Here we calculate the approximative final size of our data set using some logical operators."
   ]
  },
  {
   "cell_type": "code",
   "execution_count": 5,
   "id": "fe2050a1",
   "metadata": {},
   "outputs": [
    {
     "data": {
      "text/plain": [
       "False    86403\n",
       "True     16847\n",
       "Name: genre, dtype: int64"
      ]
     },
     "execution_count": 5,
     "metadata": {},
     "output_type": "execute_result"
    }
   ],
   "source": [
    "df_is_portrait = df[\"genre\"] == \"portrait\"\n",
    "df_is_portrait.value_counts()"
   ]
  },
  {
   "cell_type": "code",
   "execution_count": 6,
   "id": "05b76ad8",
   "metadata": {},
   "outputs": [
    {
     "data": {
      "text/plain": [
       "False    79816\n",
       "True     23434\n",
       "Name: style, dtype: int64"
      ]
     },
     "execution_count": 6,
     "metadata": {},
     "output_type": "execute_result"
    }
   ],
   "source": [
    "df_is_style = (df[\"style\"] == \"Post-Impressionism\") + (df[\"style\"] == \"Impressionism\") + (df[\"style\"] == \"Expressionism\")\n",
    "df_is_style.value_counts()"
   ]
  },
  {
   "cell_type": "code",
   "execution_count": 7,
   "id": "8d1b8c3a",
   "metadata": {},
   "outputs": [
    {
     "data": {
      "text/plain": [
       "False    99257\n",
       "True      3993\n",
       "dtype: int64"
      ]
     },
     "execution_count": 7,
     "metadata": {},
     "output_type": "execute_result"
    }
   ],
   "source": [
    "fin_crit = df_is_portrait * df_is_style\n",
    "fin_crit.value_counts()"
   ]
  },
  {
   "cell_type": "markdown",
   "id": "6fed29bd",
   "metadata": {},
   "source": [
    "The data frame below is the final dataset that we've concocted. It contains datapoints that corespond to portraits in the style of Impressionism, Post-Impressionism and Expressionism, which have similar characteristics."
   ]
  },
  {
   "cell_type": "code",
   "execution_count": 8,
   "id": "93bfadcd",
   "metadata": {
    "scrolled": true
   },
   "outputs": [
    {
     "data": {
      "text/html": [
       "<div>\n",
       "<style scoped>\n",
       "    .dataframe tbody tr th:only-of-type {\n",
       "        vertical-align: middle;\n",
       "    }\n",
       "\n",
       "    .dataframe tbody tr th {\n",
       "        vertical-align: top;\n",
       "    }\n",
       "\n",
       "    .dataframe thead th {\n",
       "        text-align: right;\n",
       "    }\n",
       "</style>\n",
       "<table border=\"1\" class=\"dataframe\">\n",
       "  <thead>\n",
       "    <tr style=\"text-align: right;\">\n",
       "      <th></th>\n",
       "      <th>artist</th>\n",
       "      <th>date</th>\n",
       "      <th>genre</th>\n",
       "      <th>pixelsx</th>\n",
       "      <th>pixelsy</th>\n",
       "      <th>size_bytes</th>\n",
       "      <th>source</th>\n",
       "      <th>style</th>\n",
       "      <th>title</th>\n",
       "      <th>artist_group</th>\n",
       "      <th>in_train</th>\n",
       "      <th>new_filename</th>\n",
       "    </tr>\n",
       "  </thead>\n",
       "  <tbody>\n",
       "    <tr>\n",
       "      <th>0</th>\n",
       "      <td>Valentin Serov</td>\n",
       "      <td>1887.0</td>\n",
       "      <td>portrait</td>\n",
       "      <td>3555.0</td>\n",
       "      <td>4000.0</td>\n",
       "      <td>7852273.0</td>\n",
       "      <td>wikiart</td>\n",
       "      <td>Impressionism</td>\n",
       "      <td>Girl with Peaches</td>\n",
       "      <td>train_and_test</td>\n",
       "      <td>True</td>\n",
       "      <td>5241.jpg</td>\n",
       "    </tr>\n",
       "    <tr>\n",
       "      <th>1</th>\n",
       "      <td>Ferdinand Hodler</td>\n",
       "      <td>1884</td>\n",
       "      <td>portrait</td>\n",
       "      <td>2964.0</td>\n",
       "      <td>4536.0</td>\n",
       "      <td>8758806.0</td>\n",
       "      <td>wikiart</td>\n",
       "      <td>Impressionism</td>\n",
       "      <td>Seated bearded man</td>\n",
       "      <td>train_and_test</td>\n",
       "      <td>True</td>\n",
       "      <td>99956.jpg</td>\n",
       "    </tr>\n",
       "    <tr>\n",
       "      <th>2</th>\n",
       "      <td>Edouard Vuillard</td>\n",
       "      <td>c.1911</td>\n",
       "      <td>portrait</td>\n",
       "      <td>2874.0</td>\n",
       "      <td>4320.0</td>\n",
       "      <td>6888032.0</td>\n",
       "      <td>wikiart</td>\n",
       "      <td>Post-Impressionism</td>\n",
       "      <td>Half-figure of a seated woman</td>\n",
       "      <td>train_and_test</td>\n",
       "      <td>True</td>\n",
       "      <td>5694.jpg</td>\n",
       "    </tr>\n",
       "    <tr>\n",
       "      <th>3</th>\n",
       "      <td>Giuseppe de Nittis</td>\n",
       "      <td>NaN</td>\n",
       "      <td>portrait</td>\n",
       "      <td>3048.0</td>\n",
       "      <td>3872.0</td>\n",
       "      <td>1898410.0</td>\n",
       "      <td>wikiart</td>\n",
       "      <td>Impressionism</td>\n",
       "      <td>A Lady from Naples</td>\n",
       "      <td>train_only</td>\n",
       "      <td>True</td>\n",
       "      <td>54668.jpg</td>\n",
       "    </tr>\n",
       "    <tr>\n",
       "      <th>4</th>\n",
       "      <td>Ernst Ludwig Kirchner</td>\n",
       "      <td>1913</td>\n",
       "      <td>portrait</td>\n",
       "      <td>2952.0</td>\n",
       "      <td>3996.0</td>\n",
       "      <td>3896710.0</td>\n",
       "      <td>wikiart</td>\n",
       "      <td>Expressionism</td>\n",
       "      <td>Erna Japanschirm</td>\n",
       "      <td>train_and_test</td>\n",
       "      <td>True</td>\n",
       "      <td>60691.jpg</td>\n",
       "    </tr>\n",
       "  </tbody>\n",
       "</table>\n",
       "</div>"
      ],
      "text/plain": [
       "                  artist    date     genre  pixelsx  pixelsy  size_bytes  \\\n",
       "0         Valentin Serov  1887.0  portrait   3555.0   4000.0   7852273.0   \n",
       "1       Ferdinand Hodler    1884  portrait   2964.0   4536.0   8758806.0   \n",
       "2       Edouard Vuillard  c.1911  portrait   2874.0   4320.0   6888032.0   \n",
       "3     Giuseppe de Nittis     NaN  portrait   3048.0   3872.0   1898410.0   \n",
       "4  Ernst Ludwig Kirchner    1913  portrait   2952.0   3996.0   3896710.0   \n",
       "\n",
       "    source               style                          title    artist_group  \\\n",
       "0  wikiart       Impressionism             Girl with Peaches   train_and_test   \n",
       "1  wikiart       Impressionism             Seated bearded man  train_and_test   \n",
       "2  wikiart  Post-Impressionism  Half-figure of a seated woman  train_and_test   \n",
       "3  wikiart       Impressionism             A Lady from Naples      train_only   \n",
       "4  wikiart       Expressionism               Erna Japanschirm  train_and_test   \n",
       "\n",
       "   in_train new_filename  \n",
       "0      True     5241.jpg  \n",
       "1      True    99956.jpg  \n",
       "2      True     5694.jpg  \n",
       "3      True    54668.jpg  \n",
       "4      True    60691.jpg  "
      ]
     },
     "execution_count": 8,
     "metadata": {},
     "output_type": "execute_result"
    }
   ],
   "source": [
    "df = df[fin_crit].reset_index(drop=True)\n",
    "df.head()"
   ]
  },
  {
   "cell_type": "markdown",
   "id": "5c02b3d0",
   "metadata": {},
   "source": [
    "## Building the Dataset"
   ]
  },
  {
   "cell_type": "markdown",
   "id": "073b98ae",
   "metadata": {},
   "source": [
    "The $\\verb|make_square|$ function takes in three variables - the name of the image folder, the name of the image and the name of the folder for the image to be saved in. The function takes in the image from the original WikiArt dataset and makes it square by reflecting it on two diferent sides (since StyleGAN requires all input data be of the same size). I found this way to be the best, since it looks more natural and aesthetically pleasing than having two empty stripes on either side, or distorting the image to fit a square. "
   ]
  },
  {
   "cell_type": "code",
   "execution_count": 9,
   "id": "4420052e",
   "metadata": {},
   "outputs": [],
   "source": [
    "def make_square(image_folder, image_name, save_folder):\n",
    "    # is_vertical checks if image is vertical or horizontal, this is used to know on which axis to extend the image     \n",
    "    def is_vertical(img):\n",
    "        x, y = img.size\n",
    "        if y > x:\n",
    "            return True\n",
    "        else:\n",
    "            return False\n",
    "    # convert image to numpy array    \n",
    "    img = Image.open(image_folder + \"//\" + image_name).convert(\"RGB\")\n",
    "    cv_img = np.array(img)[:, :, ::-1].copy()\n",
    "    \n",
    "    if is_vertical(img):\n",
    "        # below we define and calculate the size of the stripes to be reflected         \n",
    "        left = (img.size[1] - img.size[0]) // 2\n",
    "        right = img.size[1] - img.size[0] - left\n",
    "        # the copyMakeBorder function from the cv library then does the job for us.        \n",
    "        new_img = cv2.copyMakeBorder(cv_img, 0, 0, left, right, cv2.BORDER_REFLECT)\n",
    "        # resize and convert the image to a format which can be saved         \n",
    "        img = cv2.cvtColor(new_img, cv2.COLOR_BGR2RGB)\n",
    "        im_pil = Image.fromarray(img).resize((512, 512))\n",
    "        im_pil.save(save_folder + \"//\" + image_name)\n",
    "    else:\n",
    "        # analogous, except image must be reflecred on the y axis\n",
    "        top = (img.size[0] - img.size[1]) // 2\n",
    "        bottom = img.size[0] - img.size[1] - top\n",
    "        new_img = img_with_border = cv2.copyMakeBorder(cv_img, top, bottom, 0, 0, cv2.BORDER_REFLECT)\n",
    "        img = cv2.cvtColor(new_img, cv2.COLOR_BGR2RGB)\n",
    "        im_pil = Image.fromarray(img).resize((512, 512))\n",
    "        im_pil.save(save_folder + \"//\" + image_name)"
   ]
  },
  {
   "cell_type": "markdown",
   "id": "45d63fcd",
   "metadata": {},
   "source": [
    "Now we apply $\\verb|make_square|$ on each data-point and save each image separated by style."
   ]
  },
  {
   "cell_type": "code",
   "execution_count": 11,
   "id": "4a4b1f0d",
   "metadata": {},
   "outputs": [
    {
     "name": "stdout",
     "output_type": "stream",
     "text": [
      "95010.jpg\n",
      "9989.jpg\n"
     ]
    }
   ],
   "source": [
    "folder_images = \"train\"\n",
    "for row in range(len(df)):\n",
    "    try:\n",
    "        make_square(folder_images, df.loc[row][\"new_filename\"], \"Portraits_dataset//\" + df.loc[row][\"style\"])\n",
    "    except:\n",
    "        # some images might be too large or too small which throws out an error        \n",
    "        print(df.loc[row][\"new_filename\"])"
   ]
  }
 ],
 "metadata": {
  "kernelspec": {
   "display_name": "Python 3 (ipykernel)",
   "language": "python",
   "name": "python3"
  },
  "language_info": {
   "codemirror_mode": {
    "name": "ipython",
    "version": 3
   },
   "file_extension": ".py",
   "mimetype": "text/x-python",
   "name": "python",
   "nbconvert_exporter": "python",
   "pygments_lexer": "ipython3",
   "version": "3.8.8"
  }
 },
 "nbformat": 4,
 "nbformat_minor": 5
}
